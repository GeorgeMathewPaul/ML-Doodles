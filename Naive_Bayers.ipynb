{
  "cells": [
    {
      "cell_type": "code",
      "execution_count": 1,
      "metadata": {
        "id": "njLj6NUr56xA"
      },
      "outputs": [],
      "source": [
        "import numpy as np\n",
        "import pandas as pd\n",
        "import io\n",
        "from sklearn.naive_bayes import CategoricalNB"
      ]
    },
    {
      "cell_type": "code",
      "execution_count": null,
      "metadata": {
        "colab": {
          "base_uri": "https://localhost:8080/",
          "height": 38
        },
        "id": "uDkAqSEb568s",
        "outputId": "95b329b0-0af1-48ad-c5e8-c029f15a100d"
      },
      "outputs": [
        {
          "output_type": "display_data",
          "data": {
            "text/plain": [
              "<IPython.core.display.HTML object>"
            ],
            "text/html": [
              "\n",
              "     <input type=\"file\" id=\"files-d17e731f-f473-47fe-ba2c-589207056e81\" name=\"files[]\" multiple disabled\n",
              "        style=\"border:none\" />\n",
              "     <output id=\"result-d17e731f-f473-47fe-ba2c-589207056e81\">\n",
              "      Upload widget is only available when the cell has been executed in the\n",
              "      current browser session. Please rerun this cell to enable.\n",
              "      </output>\n",
              "      <script>// Copyright 2017 Google LLC\n",
              "//\n",
              "// Licensed under the Apache License, Version 2.0 (the \"License\");\n",
              "// you may not use this file except in compliance with the License.\n",
              "// You may obtain a copy of the License at\n",
              "//\n",
              "//      http://www.apache.org/licenses/LICENSE-2.0\n",
              "//\n",
              "// Unless required by applicable law or agreed to in writing, software\n",
              "// distributed under the License is distributed on an \"AS IS\" BASIS,\n",
              "// WITHOUT WARRANTIES OR CONDITIONS OF ANY KIND, either express or implied.\n",
              "// See the License for the specific language governing permissions and\n",
              "// limitations under the License.\n",
              "\n",
              "/**\n",
              " * @fileoverview Helpers for google.colab Python module.\n",
              " */\n",
              "(function(scope) {\n",
              "function span(text, styleAttributes = {}) {\n",
              "  const element = document.createElement('span');\n",
              "  element.textContent = text;\n",
              "  for (const key of Object.keys(styleAttributes)) {\n",
              "    element.style[key] = styleAttributes[key];\n",
              "  }\n",
              "  return element;\n",
              "}\n",
              "\n",
              "// Max number of bytes which will be uploaded at a time.\n",
              "const MAX_PAYLOAD_SIZE = 100 * 1024;\n",
              "\n",
              "function _uploadFiles(inputId, outputId) {\n",
              "  const steps = uploadFilesStep(inputId, outputId);\n",
              "  const outputElement = document.getElementById(outputId);\n",
              "  // Cache steps on the outputElement to make it available for the next call\n",
              "  // to uploadFilesContinue from Python.\n",
              "  outputElement.steps = steps;\n",
              "\n",
              "  return _uploadFilesContinue(outputId);\n",
              "}\n",
              "\n",
              "// This is roughly an async generator (not supported in the browser yet),\n",
              "// where there are multiple asynchronous steps and the Python side is going\n",
              "// to poll for completion of each step.\n",
              "// This uses a Promise to block the python side on completion of each step,\n",
              "// then passes the result of the previous step as the input to the next step.\n",
              "function _uploadFilesContinue(outputId) {\n",
              "  const outputElement = document.getElementById(outputId);\n",
              "  const steps = outputElement.steps;\n",
              "\n",
              "  const next = steps.next(outputElement.lastPromiseValue);\n",
              "  return Promise.resolve(next.value.promise).then((value) => {\n",
              "    // Cache the last promise value to make it available to the next\n",
              "    // step of the generator.\n",
              "    outputElement.lastPromiseValue = value;\n",
              "    return next.value.response;\n",
              "  });\n",
              "}\n",
              "\n",
              "/**\n",
              " * Generator function which is called between each async step of the upload\n",
              " * process.\n",
              " * @param {string} inputId Element ID of the input file picker element.\n",
              " * @param {string} outputId Element ID of the output display.\n",
              " * @return {!Iterable<!Object>} Iterable of next steps.\n",
              " */\n",
              "function* uploadFilesStep(inputId, outputId) {\n",
              "  const inputElement = document.getElementById(inputId);\n",
              "  inputElement.disabled = false;\n",
              "\n",
              "  const outputElement = document.getElementById(outputId);\n",
              "  outputElement.innerHTML = '';\n",
              "\n",
              "  const pickedPromise = new Promise((resolve) => {\n",
              "    inputElement.addEventListener('change', (e) => {\n",
              "      resolve(e.target.files);\n",
              "    });\n",
              "  });\n",
              "\n",
              "  const cancel = document.createElement('button');\n",
              "  inputElement.parentElement.appendChild(cancel);\n",
              "  cancel.textContent = 'Cancel upload';\n",
              "  const cancelPromise = new Promise((resolve) => {\n",
              "    cancel.onclick = () => {\n",
              "      resolve(null);\n",
              "    };\n",
              "  });\n",
              "\n",
              "  // Wait for the user to pick the files.\n",
              "  const files = yield {\n",
              "    promise: Promise.race([pickedPromise, cancelPromise]),\n",
              "    response: {\n",
              "      action: 'starting',\n",
              "    }\n",
              "  };\n",
              "\n",
              "  cancel.remove();\n",
              "\n",
              "  // Disable the input element since further picks are not allowed.\n",
              "  inputElement.disabled = true;\n",
              "\n",
              "  if (!files) {\n",
              "    return {\n",
              "      response: {\n",
              "        action: 'complete',\n",
              "      }\n",
              "    };\n",
              "  }\n",
              "\n",
              "  for (const file of files) {\n",
              "    const li = document.createElement('li');\n",
              "    li.append(span(file.name, {fontWeight: 'bold'}));\n",
              "    li.append(span(\n",
              "        `(${file.type || 'n/a'}) - ${file.size} bytes, ` +\n",
              "        `last modified: ${\n",
              "            file.lastModifiedDate ? file.lastModifiedDate.toLocaleDateString() :\n",
              "                                    'n/a'} - `));\n",
              "    const percent = span('0% done');\n",
              "    li.appendChild(percent);\n",
              "\n",
              "    outputElement.appendChild(li);\n",
              "\n",
              "    const fileDataPromise = new Promise((resolve) => {\n",
              "      const reader = new FileReader();\n",
              "      reader.onload = (e) => {\n",
              "        resolve(e.target.result);\n",
              "      };\n",
              "      reader.readAsArrayBuffer(file);\n",
              "    });\n",
              "    // Wait for the data to be ready.\n",
              "    let fileData = yield {\n",
              "      promise: fileDataPromise,\n",
              "      response: {\n",
              "        action: 'continue',\n",
              "      }\n",
              "    };\n",
              "\n",
              "    // Use a chunked sending to avoid message size limits. See b/62115660.\n",
              "    let position = 0;\n",
              "    do {\n",
              "      const length = Math.min(fileData.byteLength - position, MAX_PAYLOAD_SIZE);\n",
              "      const chunk = new Uint8Array(fileData, position, length);\n",
              "      position += length;\n",
              "\n",
              "      const base64 = btoa(String.fromCharCode.apply(null, chunk));\n",
              "      yield {\n",
              "        response: {\n",
              "          action: 'append',\n",
              "          file: file.name,\n",
              "          data: base64,\n",
              "        },\n",
              "      };\n",
              "\n",
              "      let percentDone = fileData.byteLength === 0 ?\n",
              "          100 :\n",
              "          Math.round((position / fileData.byteLength) * 100);\n",
              "      percent.textContent = `${percentDone}% done`;\n",
              "\n",
              "    } while (position < fileData.byteLength);\n",
              "  }\n",
              "\n",
              "  // All done.\n",
              "  yield {\n",
              "    response: {\n",
              "      action: 'complete',\n",
              "    }\n",
              "  };\n",
              "}\n",
              "\n",
              "scope.google = scope.google || {};\n",
              "scope.google.colab = scope.google.colab || {};\n",
              "scope.google.colab._files = {\n",
              "  _uploadFiles,\n",
              "  _uploadFilesContinue,\n",
              "};\n",
              "})(self);\n",
              "</script> "
            ]
          },
          "metadata": {}
        }
      ],
      "source": [
        "from google.colab import files\n",
        "uploaded = files.upload()"
      ]
    },
    {
      "cell_type": "code",
      "execution_count": null,
      "metadata": {
        "id": "6lG07aZr57CL"
      },
      "outputs": [],
      "source": [
        "df = pd.read_csv(io.BytesIO(uploaded['play.csv']))"
      ]
    },
    {
      "cell_type": "code",
      "execution_count": null,
      "metadata": {
        "colab": {
          "base_uri": "https://localhost:8080/",
          "height": 143
        },
        "id": "6H8rYNCy57Mr",
        "outputId": "97e3e23e-3a2d-4852-fa5b-3acedc40ccdf"
      },
      "outputs": [
        {
          "data": {
            "text/html": [
              "\n",
              "  <div id=\"df-ec845150-87f5-4aea-be3a-4bbfa5f40032\">\n",
              "    <div class=\"colab-df-container\">\n",
              "      <div>\n",
              "<style scoped>\n",
              "    .dataframe tbody tr th:only-of-type {\n",
              "        vertical-align: middle;\n",
              "    }\n",
              "\n",
              "    .dataframe tbody tr th {\n",
              "        vertical-align: top;\n",
              "    }\n",
              "\n",
              "    .dataframe thead th {\n",
              "        text-align: right;\n",
              "    }\n",
              "</style>\n",
              "<table border=\"1\" class=\"dataframe\">\n",
              "  <thead>\n",
              "    <tr style=\"text-align: right;\">\n",
              "      <th></th>\n",
              "      <th>day</th>\n",
              "      <th>outlook</th>\n",
              "      <th>temp</th>\n",
              "      <th>humidity</th>\n",
              "      <th>wind</th>\n",
              "      <th>play</th>\n",
              "    </tr>\n",
              "  </thead>\n",
              "  <tbody>\n",
              "    <tr>\n",
              "      <th>0</th>\n",
              "      <td>D1</td>\n",
              "      <td>Sunny</td>\n",
              "      <td>Hot</td>\n",
              "      <td>High</td>\n",
              "      <td>Weak</td>\n",
              "      <td>No</td>\n",
              "    </tr>\n",
              "    <tr>\n",
              "      <th>1</th>\n",
              "      <td>D2</td>\n",
              "      <td>Sunny</td>\n",
              "      <td>Hot</td>\n",
              "      <td>High</td>\n",
              "      <td>Strong</td>\n",
              "      <td>No</td>\n",
              "    </tr>\n",
              "    <tr>\n",
              "      <th>2</th>\n",
              "      <td>D3</td>\n",
              "      <td>Overcast</td>\n",
              "      <td>Hot</td>\n",
              "      <td>High</td>\n",
              "      <td>Weak</td>\n",
              "      <td>Yes</td>\n",
              "    </tr>\n",
              "  </tbody>\n",
              "</table>\n",
              "</div>\n",
              "      <button class=\"colab-df-convert\" onclick=\"convertToInteractive('df-ec845150-87f5-4aea-be3a-4bbfa5f40032')\"\n",
              "              title=\"Convert this dataframe to an interactive table.\"\n",
              "              style=\"display:none;\">\n",
              "        \n",
              "  <svg xmlns=\"http://www.w3.org/2000/svg\" height=\"24px\"viewBox=\"0 0 24 24\"\n",
              "       width=\"24px\">\n",
              "    <path d=\"M0 0h24v24H0V0z\" fill=\"none\"/>\n",
              "    <path d=\"M18.56 5.44l.94 2.06.94-2.06 2.06-.94-2.06-.94-.94-2.06-.94 2.06-2.06.94zm-11 1L8.5 8.5l.94-2.06 2.06-.94-2.06-.94L8.5 2.5l-.94 2.06-2.06.94zm10 10l.94 2.06.94-2.06 2.06-.94-2.06-.94-.94-2.06-.94 2.06-2.06.94z\"/><path d=\"M17.41 7.96l-1.37-1.37c-.4-.4-.92-.59-1.43-.59-.52 0-1.04.2-1.43.59L10.3 9.45l-7.72 7.72c-.78.78-.78 2.05 0 2.83L4 21.41c.39.39.9.59 1.41.59.51 0 1.02-.2 1.41-.59l7.78-7.78 2.81-2.81c.8-.78.8-2.07 0-2.86zM5.41 20L4 18.59l7.72-7.72 1.47 1.35L5.41 20z\"/>\n",
              "  </svg>\n",
              "      </button>\n",
              "      \n",
              "  <style>\n",
              "    .colab-df-container {\n",
              "      display:flex;\n",
              "      flex-wrap:wrap;\n",
              "      gap: 12px;\n",
              "    }\n",
              "\n",
              "    .colab-df-convert {\n",
              "      background-color: #E8F0FE;\n",
              "      border: none;\n",
              "      border-radius: 50%;\n",
              "      cursor: pointer;\n",
              "      display: none;\n",
              "      fill: #1967D2;\n",
              "      height: 32px;\n",
              "      padding: 0 0 0 0;\n",
              "      width: 32px;\n",
              "    }\n",
              "\n",
              "    .colab-df-convert:hover {\n",
              "      background-color: #E2EBFA;\n",
              "      box-shadow: 0px 1px 2px rgba(60, 64, 67, 0.3), 0px 1px 3px 1px rgba(60, 64, 67, 0.15);\n",
              "      fill: #174EA6;\n",
              "    }\n",
              "\n",
              "    [theme=dark] .colab-df-convert {\n",
              "      background-color: #3B4455;\n",
              "      fill: #D2E3FC;\n",
              "    }\n",
              "\n",
              "    [theme=dark] .colab-df-convert:hover {\n",
              "      background-color: #434B5C;\n",
              "      box-shadow: 0px 1px 3px 1px rgba(0, 0, 0, 0.15);\n",
              "      filter: drop-shadow(0px 1px 2px rgba(0, 0, 0, 0.3));\n",
              "      fill: #FFFFFF;\n",
              "    }\n",
              "  </style>\n",
              "\n",
              "      <script>\n",
              "        const buttonEl =\n",
              "          document.querySelector('#df-ec845150-87f5-4aea-be3a-4bbfa5f40032 button.colab-df-convert');\n",
              "        buttonEl.style.display =\n",
              "          google.colab.kernel.accessAllowed ? 'block' : 'none';\n",
              "\n",
              "        async function convertToInteractive(key) {\n",
              "          const element = document.querySelector('#df-ec845150-87f5-4aea-be3a-4bbfa5f40032');\n",
              "          const dataTable =\n",
              "            await google.colab.kernel.invokeFunction('convertToInteractive',\n",
              "                                                     [key], {});\n",
              "          if (!dataTable) return;\n",
              "\n",
              "          const docLinkHtml = 'Like what you see? Visit the ' +\n",
              "            '<a target=\"_blank\" href=https://colab.research.google.com/notebooks/data_table.ipynb>data table notebook</a>'\n",
              "            + ' to learn more about interactive tables.';\n",
              "          element.innerHTML = '';\n",
              "          dataTable['output_type'] = 'display_data';\n",
              "          await google.colab.output.renderOutput(dataTable, element);\n",
              "          const docLink = document.createElement('div');\n",
              "          docLink.innerHTML = docLinkHtml;\n",
              "          element.appendChild(docLink);\n",
              "        }\n",
              "      </script>\n",
              "    </div>\n",
              "  </div>\n",
              "  "
            ],
            "text/plain": [
              "  day   outlook temp humidity    wind play\n",
              "0  D1     Sunny  Hot     High    Weak   No\n",
              "1  D2     Sunny  Hot     High  Strong   No\n",
              "2  D3  Overcast  Hot     High    Weak  Yes"
            ]
          },
          "execution_count": 5,
          "metadata": {},
          "output_type": "execute_result"
        }
      ],
      "source": [
        "df.head(3)"
      ]
    },
    {
      "cell_type": "code",
      "execution_count": null,
      "metadata": {
        "colab": {
          "base_uri": "https://localhost:8080/"
        },
        "id": "2XDraiiz8bDI",
        "outputId": "8961d66e-1c23-4b73-da36-d403d2a848d3"
      },
      "outputs": [
        {
          "name": "stdout",
          "output_type": "stream",
          "text": [
            "['Sunny' 'Overcast' 'Rain']\n",
            "['Hot' 'Mild' 'Cool']\n",
            "['High' 'Normal']\n",
            "['Weak' 'Strong']\n",
            "['No' 'Yes']\n"
          ]
        }
      ],
      "source": [
        "print(df['outlook'].unique())\n",
        "print(df['temp'].unique())\n",
        "print(df['humidity'].unique())\n",
        "print(df['wind'].unique())\n",
        "print(df['play'].unique())"
      ]
    },
    {
      "cell_type": "code",
      "execution_count": null,
      "metadata": {
        "colab": {
          "base_uri": "https://localhost:8080/"
        },
        "id": "jIrXTCPc8bSc",
        "outputId": "98deb81f-267e-4c6c-8733-44d5e7400c9d"
      },
      "outputs": [
        {
          "data": {
            "text/plain": [
              "Sunny       5\n",
              "Rain        5\n",
              "Overcast    4\n",
              "Name: outlook, dtype: int64"
            ]
          },
          "execution_count": 7,
          "metadata": {},
          "output_type": "execute_result"
        }
      ],
      "source": [
        "df['outlook'].value_counts()"
      ]
    },
    {
      "cell_type": "code",
      "execution_count": null,
      "metadata": {
        "colab": {
          "base_uri": "https://localhost:8080/"
        },
        "id": "lqmkXT4x9C84",
        "outputId": "1c7384ef-c5b0-4da2-8e39-23684a4e43a2"
      },
      "outputs": [
        {
          "data": {
            "text/plain": [
              "Mild    6\n",
              "Hot     4\n",
              "Cool    4\n",
              "Name: temp, dtype: int64"
            ]
          },
          "execution_count": 8,
          "metadata": {},
          "output_type": "execute_result"
        }
      ],
      "source": [
        "df['temp'].value_counts()"
      ]
    },
    {
      "cell_type": "code",
      "execution_count": null,
      "metadata": {
        "colab": {
          "base_uri": "https://localhost:8080/"
        },
        "id": "bbNNXGEr9RS1",
        "outputId": "365e7e1d-3fb1-4718-dd91-1b2c17b673cf"
      },
      "outputs": [
        {
          "data": {
            "text/plain": [
              "High      7\n",
              "Normal    7\n",
              "Name: humidity, dtype: int64"
            ]
          },
          "execution_count": 9,
          "metadata": {},
          "output_type": "execute_result"
        }
      ],
      "source": [
        "df['humidity'].value_counts()"
      ]
    },
    {
      "cell_type": "code",
      "execution_count": null,
      "metadata": {
        "colab": {
          "base_uri": "https://localhost:8080/"
        },
        "id": "2cp4UGjL9VOM",
        "outputId": "9259621c-36f7-45d8-c1e1-e40ec60a4c13"
      },
      "outputs": [
        {
          "data": {
            "text/plain": [
              "Weak      8\n",
              "Strong    6\n",
              "Name: wind, dtype: int64"
            ]
          },
          "execution_count": 10,
          "metadata": {},
          "output_type": "execute_result"
        }
      ],
      "source": [
        "df['wind'].value_counts()"
      ]
    },
    {
      "cell_type": "code",
      "execution_count": null,
      "metadata": {
        "colab": {
          "base_uri": "https://localhost:8080/"
        },
        "id": "WrxCepSu91wd",
        "outputId": "d9c005d6-0620-455d-f289-3e1987497331"
      },
      "outputs": [
        {
          "data": {
            "text/plain": [
              "Yes    9\n",
              "No     5\n",
              "Name: play, dtype: int64"
            ]
          },
          "execution_count": 11,
          "metadata": {},
          "output_type": "execute_result"
        }
      ],
      "source": [
        "df['play'].value_counts()"
      ]
    },
    {
      "cell_type": "code",
      "execution_count": null,
      "metadata": {
        "colab": {
          "base_uri": "https://localhost:8080/"
        },
        "id": "PpTS6KZz97OW",
        "outputId": "789d88ed-62e8-4955-8621-cae8406bddf9"
      },
      "outputs": [
        {
          "name": "stdout",
          "output_type": "stream",
          "text": [
            "  day   outlook  temp humidity    wind play\n",
            "0  D1     Sunny   Hot     High    Weak   No\n",
            "1  D2     Sunny   Hot     High  Strong   No\n",
            "2  D3  Overcast   Hot     High    Weak  Yes\n",
            "3  D4      Rain  Mild     High    Weak  Yes\n",
            "4  D5      Rain  Cool   Normal    Weak  Yes\n"
          ]
        }
      ],
      "source": [
        "df = pd.read_csv('play.csv')\n",
        "print(df.head())"
      ]
    },
    {
      "cell_type": "code",
      "execution_count": null,
      "metadata": {
        "colab": {
          "base_uri": "https://localhost:8080/",
          "height": 73
        },
        "id": "1pbx7Z1TyxSj",
        "outputId": "df44a2ed-0b35-47d6-eee2-2a8ae0f3e7e0"
      },
      "outputs": [
        {
          "data": {
            "text/html": [
              "\n",
              "     <input type=\"file\" id=\"files-a13a4eab-97a3-40e8-af02-62a5df35cc64\" name=\"files[]\" multiple disabled\n",
              "        style=\"border:none\" />\n",
              "     <output id=\"result-a13a4eab-97a3-40e8-af02-62a5df35cc64\">\n",
              "      Upload widget is only available when the cell has been executed in the\n",
              "      current browser session. Please rerun this cell to enable.\n",
              "      </output>\n",
              "      <script>// Copyright 2017 Google LLC\n",
              "//\n",
              "// Licensed under the Apache License, Version 2.0 (the \"License\");\n",
              "// you may not use this file except in compliance with the License.\n",
              "// You may obtain a copy of the License at\n",
              "//\n",
              "//      http://www.apache.org/licenses/LICENSE-2.0\n",
              "//\n",
              "// Unless required by applicable law or agreed to in writing, software\n",
              "// distributed under the License is distributed on an \"AS IS\" BASIS,\n",
              "// WITHOUT WARRANTIES OR CONDITIONS OF ANY KIND, either express or implied.\n",
              "// See the License for the specific language governing permissions and\n",
              "// limitations under the License.\n",
              "\n",
              "/**\n",
              " * @fileoverview Helpers for google.colab Python module.\n",
              " */\n",
              "(function(scope) {\n",
              "function span(text, styleAttributes = {}) {\n",
              "  const element = document.createElement('span');\n",
              "  element.textContent = text;\n",
              "  for (const key of Object.keys(styleAttributes)) {\n",
              "    element.style[key] = styleAttributes[key];\n",
              "  }\n",
              "  return element;\n",
              "}\n",
              "\n",
              "// Max number of bytes which will be uploaded at a time.\n",
              "const MAX_PAYLOAD_SIZE = 100 * 1024;\n",
              "\n",
              "function _uploadFiles(inputId, outputId) {\n",
              "  const steps = uploadFilesStep(inputId, outputId);\n",
              "  const outputElement = document.getElementById(outputId);\n",
              "  // Cache steps on the outputElement to make it available for the next call\n",
              "  // to uploadFilesContinue from Python.\n",
              "  outputElement.steps = steps;\n",
              "\n",
              "  return _uploadFilesContinue(outputId);\n",
              "}\n",
              "\n",
              "// This is roughly an async generator (not supported in the browser yet),\n",
              "// where there are multiple asynchronous steps and the Python side is going\n",
              "// to poll for completion of each step.\n",
              "// This uses a Promise to block the python side on completion of each step,\n",
              "// then passes the result of the previous step as the input to the next step.\n",
              "function _uploadFilesContinue(outputId) {\n",
              "  const outputElement = document.getElementById(outputId);\n",
              "  const steps = outputElement.steps;\n",
              "\n",
              "  const next = steps.next(outputElement.lastPromiseValue);\n",
              "  return Promise.resolve(next.value.promise).then((value) => {\n",
              "    // Cache the last promise value to make it available to the next\n",
              "    // step of the generator.\n",
              "    outputElement.lastPromiseValue = value;\n",
              "    return next.value.response;\n",
              "  });\n",
              "}\n",
              "\n",
              "/**\n",
              " * Generator function which is called between each async step of the upload\n",
              " * process.\n",
              " * @param {string} inputId Element ID of the input file picker element.\n",
              " * @param {string} outputId Element ID of the output display.\n",
              " * @return {!Iterable<!Object>} Iterable of next steps.\n",
              " */\n",
              "function* uploadFilesStep(inputId, outputId) {\n",
              "  const inputElement = document.getElementById(inputId);\n",
              "  inputElement.disabled = false;\n",
              "\n",
              "  const outputElement = document.getElementById(outputId);\n",
              "  outputElement.innerHTML = '';\n",
              "\n",
              "  const pickedPromise = new Promise((resolve) => {\n",
              "    inputElement.addEventListener('change', (e) => {\n",
              "      resolve(e.target.files);\n",
              "    });\n",
              "  });\n",
              "\n",
              "  const cancel = document.createElement('button');\n",
              "  inputElement.parentElement.appendChild(cancel);\n",
              "  cancel.textContent = 'Cancel upload';\n",
              "  const cancelPromise = new Promise((resolve) => {\n",
              "    cancel.onclick = () => {\n",
              "      resolve(null);\n",
              "    };\n",
              "  });\n",
              "\n",
              "  // Wait for the user to pick the files.\n",
              "  const files = yield {\n",
              "    promise: Promise.race([pickedPromise, cancelPromise]),\n",
              "    response: {\n",
              "      action: 'starting',\n",
              "    }\n",
              "  };\n",
              "\n",
              "  cancel.remove();\n",
              "\n",
              "  // Disable the input element since further picks are not allowed.\n",
              "  inputElement.disabled = true;\n",
              "\n",
              "  if (!files) {\n",
              "    return {\n",
              "      response: {\n",
              "        action: 'complete',\n",
              "      }\n",
              "    };\n",
              "  }\n",
              "\n",
              "  for (const file of files) {\n",
              "    const li = document.createElement('li');\n",
              "    li.append(span(file.name, {fontWeight: 'bold'}));\n",
              "    li.append(span(\n",
              "        `(${file.type || 'n/a'}) - ${file.size} bytes, ` +\n",
              "        `last modified: ${\n",
              "            file.lastModifiedDate ? file.lastModifiedDate.toLocaleDateString() :\n",
              "                                    'n/a'} - `));\n",
              "    const percent = span('0% done');\n",
              "    li.appendChild(percent);\n",
              "\n",
              "    outputElement.appendChild(li);\n",
              "\n",
              "    const fileDataPromise = new Promise((resolve) => {\n",
              "      const reader = new FileReader();\n",
              "      reader.onload = (e) => {\n",
              "        resolve(e.target.result);\n",
              "      };\n",
              "      reader.readAsArrayBuffer(file);\n",
              "    });\n",
              "    // Wait for the data to be ready.\n",
              "    let fileData = yield {\n",
              "      promise: fileDataPromise,\n",
              "      response: {\n",
              "        action: 'continue',\n",
              "      }\n",
              "    };\n",
              "\n",
              "    // Use a chunked sending to avoid message size limits. See b/62115660.\n",
              "    let position = 0;\n",
              "    do {\n",
              "      const length = Math.min(fileData.byteLength - position, MAX_PAYLOAD_SIZE);\n",
              "      const chunk = new Uint8Array(fileData, position, length);\n",
              "      position += length;\n",
              "\n",
              "      const base64 = btoa(String.fromCharCode.apply(null, chunk));\n",
              "      yield {\n",
              "        response: {\n",
              "          action: 'append',\n",
              "          file: file.name,\n",
              "          data: base64,\n",
              "        },\n",
              "      };\n",
              "\n",
              "      let percentDone = fileData.byteLength === 0 ?\n",
              "          100 :\n",
              "          Math.round((position / fileData.byteLength) * 100);\n",
              "      percent.textContent = `${percentDone}% done`;\n",
              "\n",
              "    } while (position < fileData.byteLength);\n",
              "  }\n",
              "\n",
              "  // All done.\n",
              "  yield {\n",
              "    response: {\n",
              "      action: 'complete',\n",
              "    }\n",
              "  };\n",
              "}\n",
              "\n",
              "scope.google = scope.google || {};\n",
              "scope.google.colab = scope.google.colab || {};\n",
              "scope.google.colab._files = {\n",
              "  _uploadFiles,\n",
              "  _uploadFilesContinue,\n",
              "};\n",
              "})(self);\n",
              "</script> "
            ],
            "text/plain": [
              "<IPython.core.display.HTML object>"
            ]
          },
          "metadata": {},
          "output_type": "display_data"
        },
        {
          "name": "stdout",
          "output_type": "stream",
          "text": [
            "Saving music.csv to music.csv\n"
          ]
        }
      ],
      "source": [
        "from google.colab import files\n",
        "uploaded = files.upload()"
      ]
    },
    {
      "cell_type": "code",
      "execution_count": null,
      "metadata": {
        "id": "1eRbJTYoy4So"
      },
      "outputs": [],
      "source": [
        "df = pd.read_csv(io.BytesIO(uploaded['music.csv']))"
      ]
    },
    {
      "cell_type": "code",
      "execution_count": null,
      "metadata": {
        "colab": {
          "base_uri": "https://localhost:8080/"
        },
        "id": "LZBEiW0azIRk",
        "outputId": "b88909cd-7cba-4d04-b1c6-75bf4ac67439"
      },
      "outputs": [
        {
          "name": "stdout",
          "output_type": "stream",
          "text": [
            "   Class  _RMSenergy_Mean  _Lowenergy_Mean  _Fluctuation_Mean  _Tempo_Mean  \\\n",
            "0  relax            0.052            0.591              9.136      130.043   \n",
            "1  relax            0.125            0.439              6.680      142.240   \n",
            "2  relax            0.046            0.639             10.578      188.154   \n",
            "3  relax            0.135            0.603             10.442       65.991   \n",
            "4  relax            0.066            0.591              9.769       88.890   \n",
            "\n",
            "   _MFCC_Mean_1  _MFCC_Mean_2  _MFCC_Mean_3  _MFCC_Mean_4  _MFCC_Mean_5  ...  \\\n",
            "0         3.997         0.363         0.887         0.078         0.221  ...   \n",
            "1         4.058         0.516         0.785         0.397         0.556  ...   \n",
            "2         2.775         0.903         0.502         0.329         0.287  ...   \n",
            "3         2.841         1.552         0.612         0.351         0.011  ...   \n",
            "4         3.217         0.228         0.814         0.096         0.434  ...   \n",
            "\n",
            "   _Chromagram_Mean_9  _Chromagram_Mean_10  _Chromagram_Mean_11  \\\n",
            "0               0.426                1.000                0.008   \n",
            "1               0.002                1.000                0.000   \n",
            "2               0.184                0.746                0.016   \n",
            "3               0.038                1.000                0.161   \n",
            "4               0.004                0.404                1.000   \n",
            "\n",
            "   _Chromagram_Mean_12  _HarmonicChangeDetectionFunction_Mean  \\\n",
            "0                0.101                                  0.316   \n",
            "1                0.984                                  0.285   \n",
            "2                1.000                                  0.413   \n",
            "3                0.757                                  0.422   \n",
            "4                0.001                                  0.345   \n",
            "\n",
            "   _HarmonicChangeDetectionFunction_Std  \\\n",
            "0                                 0.261   \n",
            "1                                 0.211   \n",
            "2                                 0.299   \n",
            "3                                 0.265   \n",
            "4                                 0.261   \n",
            "\n",
            "   _HarmonicChangeDetectionFunction_Slope  \\\n",
            "0                                   0.018   \n",
            "1                                  -0.082   \n",
            "2                                   0.134   \n",
            "3                                   0.042   \n",
            "4                                   0.089   \n",
            "\n",
            "   _HarmonicChangeDetectionFunction_PeriodFreq  \\\n",
            "0                                        1.035   \n",
            "1                                        3.364   \n",
            "2                                        1.682   \n",
            "3                                        0.354   \n",
            "4                                        0.748   \n",
            "\n",
            "   _HarmonicChangeDetectionFunction_PeriodAmp  \\\n",
            "0                                       0.593   \n",
            "1                                       0.702   \n",
            "2                                       0.692   \n",
            "3                                       0.743   \n",
            "4                                       0.674   \n",
            "\n",
            "   _HarmonicChangeDetectionFunction_PeriodEntropy  \n",
            "0                                           0.970  \n",
            "1                                           0.967  \n",
            "2                                           0.963  \n",
            "3                                           0.968  \n",
            "4                                           0.957  \n",
            "\n",
            "[5 rows x 51 columns]\n"
          ]
        }
      ],
      "source": [
        "df = pd.read_csv('music.csv')\n",
        "print(df.head())"
      ]
    },
    {
      "cell_type": "markdown",
      "metadata": {
        "id": "U00SwRmHzbkK"
      },
      "source": [
        "1. Play Cricket \n",
        "Suppose you want to build Naïve Bayes classifier for predicting whether a cricket match will be played in the given weather conditions or not. Here the weather conditions are described by features outlook, temperature, humidity and wind. The target is play with two class labels Yes and No.  (Dataset:  play.csv)\n",
        "    \n",
        "    a. Implement Naïve Bayes classifier which must\n",
        "        ◦ Print the class prior probabilities form the training set\n",
        "        ◦ Classify the test sample  <Rain, Cool, High>. Need to print likelihood for  <Rain, Cool, High>  and also class conditional probabilities for “YES” and “NO” classes. \n",
        "    b. Use sklearn CategoricalNB to validate the results obtained above."
      ]
    },
    {
      "cell_type": "code",
      "execution_count": null,
      "metadata": {
        "colab": {
          "base_uri": "https://localhost:8080/"
        },
        "id": "RduXDdn4zNjH",
        "outputId": "77a6e663-c834-4538-e432-044520d54c09"
      },
      "outputs": [
        {
          "name": "stdout",
          "output_type": "stream",
          "text": [
            "Likelihood for the given sample :-['Rain', 'Cool', 'High']:\n",
            "\n",
            "Class conditional probabilities:\n",
            "\n",
            "P(Y=Yes | x) = 0.6363636363636364\n",
            "P(Y=No | x) = 0.36363636363636365\n",
            "\n",
            "Predicted class for the given sample:-['Rain', 'Cool', 'High']: Yes\n",
            "\n"
          ]
        }
      ],
      "source": [
        "import pandas as pd\n",
        "import numpy as np\n",
        "\n",
        "# Load the dataset\n",
        "data = pd.read_csv('play.csv')\n",
        "\n",
        "# Split the dataset into training and testing sets\n",
        "train_data = data.sample(frac=0.8, random_state=1)\n",
        "test_data = data.drop(train_data.index)\n",
        "\n",
        "# Calculate class prior probabilities from the training set\n",
        "class_priors = train_data['play'].value_counts(normalize=True)\n",
        "\n",
        "# Calculate class conditional probabilities for each feature\n",
        "conditional_probs = {}\n",
        "for feature in train_data.columns[:-1]:\n",
        "    values = train_data[feature].unique()\n",
        "    for value in values:\n",
        "        probs = {}\n",
        "        for label in class_priors.index:\n",
        "            subset = train_data[train_data['play'] == label]\n",
        "            numerator = len(subset[subset[feature] == value])\n",
        "            denominator = len(subset)\n",
        "            probs[label] = numerator / denominator\n",
        "        key = f\"{feature} = {value}\"\n",
        "        conditional_probs[key] = probs\n",
        "\n",
        "# Define a function to predict the class of a test sample\n",
        "def predict_class(sample):\n",
        "    likelihoods = {}\n",
        "    for label in class_priors.index:\n",
        "        likelihood = 1\n",
        "        for feature, value in zip(train_data.columns[:-1], sample):\n",
        "            key = f\"{feature} = {value}\"\n",
        "            if key in conditional_probs:\n",
        "                likelihood *= conditional_probs[key][label]\n",
        "        likelihoods[label] = likelihood * class_priors[label]\n",
        "    return max(likelihoods, key=likelihoods.get), likelihoods\n",
        "\n",
        "# Test the classifier on a sample <Rain, Cool, High>\n",
        "sample = ['Rain', 'Cool', 'High']\n",
        "predicted_label, likelihoods = predict_class(sample)\n",
        "\n",
        "# Print the likelihoods and predicted class\n",
        "print(f\"Likelihood for the given sample :-{sample}:\")\n",
        "for feature, value in zip(train_data.columns[:-1], sample):\n",
        "    key = f\"{feature} = {value}\"\n",
        "    if key in conditional_probs:\n",
        "        print(f\"P({key}) = {conditional_probs[key]}\")\n",
        "print(\"\\nClass conditional probabilities:\\n\")\n",
        "for label in class_priors.index:\n",
        "    print(f\"P(Y={label} | x) = {likelihoods[label] / sum(likelihoods.values())}\")\n",
        "print(f\"\\nPredicted class for the given sample:-{sample}: {predicted_label}\\n\")"
      ]
    },
    {
      "cell_type": "code",
      "execution_count": null,
      "metadata": {
        "colab": {
          "base_uri": "https://localhost:8080/"
        },
        "id": "Z70aVQ29zrhF",
        "outputId": "c5ed8472-0179-4b45-f4df-cf28515bbb18"
      },
      "outputs": [
        {
          "name": "stdout",
          "output_type": "stream",
          "text": [
            "Original 'input.csv' CSV Data: \n",
            "\n",
            "    day   outlook  temp humidity    wind play\n",
            "0    D1     Sunny   Hot     High    Weak   No\n",
            "1    D2     Sunny   Hot     High  Strong   No\n",
            "2    D3  Overcast   Hot     High    Weak  Yes\n",
            "3    D4      Rain  Mild     High    Weak  Yes\n",
            "4    D5      Rain  Cool   Normal    Weak  Yes\n",
            "5    D6      Rain  Cool   Normal  Strong   No\n",
            "6    D7  Overcast  Cool   Normal  Strong  Yes\n",
            "7    D8     Sunny  Mild     High    Weak   No\n",
            "8    D9     Sunny  Cool   Normal    Weak  Yes\n",
            "9   D10      Rain  Mild   Normal    Weak  Yes\n",
            "10  D11     Sunny  Mild   Normal  Strong  Yes\n",
            "11  D12  Overcast  Mild     High  Strong  Yes\n",
            "12  D13  Overcast   Hot   Normal    Weak  Yes\n",
            "13  D14      Rain  Mild     High  Strong   No\n",
            "\n",
            "CSV Data after deleting the column 'year':\n",
            "\n",
            "     outlook  temp humidity    wind play\n",
            "0      Sunny   Hot     High    Weak   No\n",
            "1      Sunny   Hot     High  Strong   No\n",
            "2   Overcast   Hot     High    Weak  Yes\n",
            "3       Rain  Mild     High    Weak  Yes\n",
            "4       Rain  Cool   Normal    Weak  Yes\n",
            "5       Rain  Cool   Normal  Strong   No\n",
            "6   Overcast  Cool   Normal  Strong  Yes\n",
            "7      Sunny  Mild     High    Weak   No\n",
            "8      Sunny  Cool   Normal    Weak  Yes\n",
            "9       Rain  Mild   Normal    Weak  Yes\n",
            "10     Sunny  Mild   Normal  Strong  Yes\n",
            "11  Overcast  Mild     High  Strong  Yes\n",
            "12  Overcast   Hot   Normal    Weak  Yes\n",
            "13      Rain  Mild     High  Strong   No\n"
          ]
        }
      ],
      "source": [
        "# import pandas with shortcut 'pd'\n",
        "import pandas as pd\n",
        "\n",
        "# read_csv function which is used to read the required CSV file\n",
        "data = pd.read_csv('play.csv')\n",
        "\n",
        "# display\n",
        "print(\"Original 'input.csv' CSV Data: \\n\")\n",
        "print(data)\n",
        "\n",
        "# drop function which is used in removing or deleting rows or columns from the CSV files\n",
        "data.drop('day', inplace=True, axis=1)\n",
        "\n",
        "# display\n",
        "print(\"\\nCSV Data after deleting the column 'year':\\n\")\n",
        "print(data)"
      ]
    },
    {
      "cell_type": "code",
      "execution_count": null,
      "metadata": {
        "colab": {
          "base_uri": "https://localhost:8080/"
        },
        "id": "2VGUCiaMztQ6",
        "outputId": "5ca3f1e6-8f91-4eba-8a24-1c097cc6d67f"
      },
      "outputs": [
        {
          "output_type": "stream",
          "name": "stdout",
          "text": [
            "              precision    recall  f1-score   support\n",
            "\n",
            "          No       0.00      0.00      0.00         1\n",
            "         Yes       0.50      0.50      0.50         2\n",
            "\n",
            "    accuracy                           0.33         3\n",
            "   macro avg       0.25      0.25      0.25         3\n",
            "weighted avg       0.33      0.33      0.33         3\n",
            "\n"
          ]
        }
      ],
      "source": [
        "import pandas as pd\n",
        "from sklearn.naive_bayes import CategoricalNB\n",
        "from sklearn.metrics import classification_report\n",
        "\n",
        "# Load the dataset\n",
        "df = pd.read_csv('play.csv')\n",
        "\n",
        "# Split the dataset into input features and target variable\n",
        "X = df.drop('play', axis=1) # input features\n",
        "y = df['play'] # target variable\n",
        "\n",
        "# Convert the features and target to numeric categories\n",
        "X = X.apply(lambda x: pd.Categorical(x).codes)\n",
        "\n",
        "# Split the dataset into training and testing sets\n",
        "X_train, X_test, y_train, y_test = train_test_split(X, y, test_size=0.2, random_state=42)\n",
        "\n",
        "# Create a CategoricalNB classifier\n",
        "clf = CategoricalNB()\n",
        "\n",
        "# Train the classifier\n",
        "clf.fit(X_train, y_train)\n",
        "\n",
        "# Make predictions on the test set\n",
        "y_pred = clf.predict(X_test)\n",
        "\n",
        "# Evaluate the classifier\n",
        "print(classification_report(y_test, y_pred))"
      ]
    },
    {
      "cell_type": "markdown",
      "metadata": {
        "id": "c7dsCO1q1cEe"
      },
      "source": [
        "2. Assume you need to build a classifier for recognizing emotional content in music signals such as Mel Frequency Cepstral Coefficients (MFCCs), Tempo, Chromagram, Spectral and Harmonic features. There are four different classes of music emotions in the dataset: happy, sad, angry, and relax. (Dataset:  music.csv)\n",
        "•\tChoose a suitable Naïve Bayes classifier model from Sklearn to perform the above task.\n",
        "•\tNeed to show all the pre-processing steps (normalization, encoding etc)\n",
        "•\tReport accuracy\n",
        "\n"
      ]
    },
    {
      "cell_type": "code",
      "execution_count": null,
      "metadata": {
        "colab": {
          "base_uri": "https://localhost:8080/"
        },
        "id": "893Qqbqm1m4u",
        "outputId": "ceb44371-997e-41ba-faf7-0b5cb1eb3d19"
      },
      "outputs": [
        {
          "output_type": "stream",
          "name": "stdout",
          "text": [
            "Pre-processing steps:\n",
            "Original shape of X: (400, 50)\n",
            "Normalized shape of X: (400, 50)\n",
            "Classes in y before encoding: ['relax' 'happy' 'sad' 'angry']\n",
            "Classes in y after encoding: ['angry' 'happy' 'relax' 'sad']\n",
            "\n",
            "Accuracy: 0.8\n"
          ]
        }
      ],
      "source": [
        "import pandas as pd\n",
        "from sklearn.model_selection import train_test_split\n",
        "from sklearn.naive_bayes import GaussianNB\n",
        "from sklearn.metrics import accuracy_score\n",
        "from sklearn.preprocessing import StandardScaler, LabelEncoder\n",
        "data = pd.read_csv('music.csv')\n",
        "X = data.drop('Class', axis=1)\n",
        "y = data['Class']\n",
        "scaler = StandardScaler()\n",
        "X_norm = scaler.fit_transform(X)\n",
        "encoder = LabelEncoder()\n",
        "y_enc = encoder.fit_transform(y)\n",
        "X_train, X_test, y_train, y_test = train_test_split(X_norm, y_enc, test_size=0.2, random_state=1)\n",
        "clf = GaussianNB()\n",
        "clf.fit(X_train, y_train)\n",
        "y_pred = clf.predict(X_test)\n",
        "accuracy = accuracy_score(y_test, y_pred)\n",
        "print(\"Pre-processing steps:\")\n",
        "print(f\"Original shape of X: {X.shape}\")\n",
        "print(f\"Normalized shape of X: {X_norm.shape}\")\n",
        "print(f\"Classes in y before encoding: {y.unique()}\")\n",
        "print(f\"Classes in y after encoding: {encoder.classes_}\")\n",
        "print()\n",
        "print(\"Accuracy:\", accuracy)"
      ]
    }
  ],
  "metadata": {
    "colab": {
      "provenance": []
    },
    "kernelspec": {
      "display_name": "Python 3",
      "name": "python3"
    },
    "language_info": {
      "name": "python"
    }
  },
  "nbformat": 4,
  "nbformat_minor": 0
}